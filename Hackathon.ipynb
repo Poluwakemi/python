{
 "cells": [
  {
   "cell_type": "code",
   "execution_count": 236,
   "id": "1d93a67b",
   "metadata": {},
   "outputs": [],
   "source": [
    "import numpy as np\n",
    "import pandas as pd\n",
    "import matplotlib.pyplot as plt\n",
    "import seaborn as sns"
   ]
  },
  {
   "cell_type": "code",
   "execution_count": 237,
   "id": "54e33435",
   "metadata": {},
   "outputs": [],
   "source": [
    "vdef = pd.read_csv(\"VariableDefinitions.csv\")"
   ]
  },
  {
   "cell_type": "code",
   "execution_count": 238,
   "id": "530b3703",
   "metadata": {},
   "outputs": [],
   "source": [
    "ssub = pd.read_csv(\"SampleSubmission.csv\")"
   ]
  },
  {
   "cell_type": "code",
   "execution_count": 239,
   "id": "42c09d64",
   "metadata": {},
   "outputs": [],
   "source": [
    "test = pd.read_csv(\"Test.csv\")"
   ]
  },
  {
   "cell_type": "code",
   "execution_count": 240,
   "id": "7074179c",
   "metadata": {},
   "outputs": [],
   "source": [
    "train = pd.read_csv(\"Train.csv\")"
   ]
  },
  {
   "cell_type": "code",
   "execution_count": 241,
   "id": "02358106",
   "metadata": {},
   "outputs": [],
   "source": [
    "from sklearn import metrics\n",
    "from sklearn.linear_model import LogisticRegression\n",
    "from sklearn.model_selection import train_test_split\n",
    "from sklearn.naive_bayes import GaussianNB\n",
    "from sklearn.ensemble import RandomForestClassifier\n",
    "from sklearn.metrics import accuracy_score, f1_score\n",
    "from sklearn.preprocessing import LabelEncoder, LabelBinarizer\n",
    "from sklearn.model_selection import train_test_split"
   ]
  },
  {
   "cell_type": "code",
   "execution_count": 242,
   "id": "ed18eb4c",
   "metadata": {},
   "outputs": [],
   "source": [
    "le = LabelEncoder()\n",
    "lb = LabelBinarizer()"
   ]
  },
  {
   "cell_type": "code",
   "execution_count": 243,
   "id": "8a236d0e",
   "metadata": {},
   "outputs": [
    {
     "data": {
      "text/plain": [
       "(23524, 13)"
      ]
     },
     "execution_count": 243,
     "metadata": {},
     "output_type": "execute_result"
    }
   ],
   "source": [
    "train.shape"
   ]
  },
  {
   "cell_type": "code",
   "execution_count": 244,
   "id": "786f58a3",
   "metadata": {},
   "outputs": [
    {
     "data": {
      "text/plain": [
       "(10086, 12)"
      ]
     },
     "execution_count": 244,
     "metadata": {},
     "output_type": "execute_result"
    }
   ],
   "source": [
    "test.shape"
   ]
  },
  {
   "cell_type": "code",
   "execution_count": 245,
   "id": "b8f3dfbb",
   "metadata": {},
   "outputs": [],
   "source": [
    "train[\"country\"] = le.fit_transform(train[\"country\"])"
   ]
  },
  {
   "cell_type": "code",
   "execution_count": 246,
   "id": "979663c6",
   "metadata": {},
   "outputs": [],
   "source": [
    "test[\"country\"] = le.fit_transform(test[\"country\"])"
   ]
  },
  {
   "cell_type": "code",
   "execution_count": 247,
   "id": "362ac9de",
   "metadata": {},
   "outputs": [],
   "source": [
    "test[\"location_type\"] = test[\"location_type\"].apply(lambda x:1 if x== \"Rural\" else 0)"
   ]
  },
  {
   "cell_type": "code",
   "execution_count": 248,
   "id": "9d5940f1",
   "metadata": {},
   "outputs": [],
   "source": [
    "train[\"bank_account\"] = train[\"bank_account\"].replace({\"Yes\" : 1, \"No\" : 0})"
   ]
  },
  {
   "cell_type": "code",
   "execution_count": 249,
   "id": "af623f70",
   "metadata": {},
   "outputs": [],
   "source": [
    "train[\"location_type\"] = train[\"location_type\"].apply(lambda x:1 if x== \"Rural\" else 0)"
   ]
  },
  {
   "cell_type": "code",
   "execution_count": 250,
   "id": "841db79b",
   "metadata": {},
   "outputs": [],
   "source": [
    "train[\"cellphone_access\"] = train[\"cellphone_access\"].replace({\"Yes\" : 1, \"No\" : 0})"
   ]
  },
  {
   "cell_type": "code",
   "execution_count": 251,
   "id": "81beb3ae",
   "metadata": {},
   "outputs": [],
   "source": [
    "test[\"cellphone_access\"] = test[\"cellphone_access\"].replace({\"Yes\" : 1, \"No\" : 0})"
   ]
  },
  {
   "cell_type": "code",
   "execution_count": 252,
   "id": "1e214b3d",
   "metadata": {},
   "outputs": [],
   "source": [
    "train.drop(\"uniqueid\", axis = \"columns\", inplace = True )"
   ]
  },
  {
   "cell_type": "code",
   "execution_count": 253,
   "id": "6695d6fa",
   "metadata": {},
   "outputs": [],
   "source": [
    "test[\"gender_of_respondent\"] = test[\"gender_of_respondent\"].replace({\"Male\" : 1, \"Female\" : 0})"
   ]
  },
  {
   "cell_type": "code",
   "execution_count": 254,
   "id": "1563e010",
   "metadata": {},
   "outputs": [],
   "source": [
    "train[\"gender_of_respondent\"] = train[\"gender_of_respondent\"].replace({\"Male\" : 1, \"Female\" : 0})"
   ]
  },
  {
   "cell_type": "code",
   "execution_count": 255,
   "id": "ae093818",
   "metadata": {},
   "outputs": [],
   "source": [
    "test[\"relationship_with_head\"] = le.fit_transform(test[\"relationship_with_head\"])"
   ]
  },
  {
   "cell_type": "code",
   "execution_count": 256,
   "id": "a131b293",
   "metadata": {},
   "outputs": [],
   "source": [
    "train[\"relationship_with_head\"] = le.fit_transform(train[\"relationship_with_head\"])"
   ]
  },
  {
   "cell_type": "code",
   "execution_count": 257,
   "id": "e118fcca",
   "metadata": {},
   "outputs": [],
   "source": [
    "test[\"marital_status\"] = le.fit_transform(test[\"marital_status\"])"
   ]
  },
  {
   "cell_type": "code",
   "execution_count": 258,
   "id": "48c1e15c",
   "metadata": {},
   "outputs": [],
   "source": [
    "train[\"marital_status\"] = le.fit_transform(train[\"marital_status\"])"
   ]
  },
  {
   "cell_type": "code",
   "execution_count": 259,
   "id": "950492b8",
   "metadata": {},
   "outputs": [],
   "source": [
    "test[\"education_level\"] = le.fit_transform(test[\"education_level\"])"
   ]
  },
  {
   "cell_type": "code",
   "execution_count": 260,
   "id": "4c3a3ab9",
   "metadata": {},
   "outputs": [],
   "source": [
    "train[\"education_level\"] = le.fit_transform(train[\"education_level\"])"
   ]
  },
  {
   "cell_type": "code",
   "execution_count": 261,
   "id": "2d373958",
   "metadata": {},
   "outputs": [],
   "source": [
    "test[\"job_type\"] = le.fit_transform(test[\"job_type\"])"
   ]
  },
  {
   "cell_type": "code",
   "execution_count": 262,
   "id": "5e109c7f",
   "metadata": {},
   "outputs": [],
   "source": [
    "train[\"job_type\"] = le.fit_transform(train[\"job_type\"])"
   ]
  },
  {
   "cell_type": "code",
   "execution_count": 263,
   "id": "86a14ad2",
   "metadata": {},
   "outputs": [],
   "source": [
    "test[\"uniqueid\"] = le.fit_transform(test[\"uniqueid\"])"
   ]
  },
  {
   "cell_type": "code",
   "execution_count": 264,
   "id": "66f73bff",
   "metadata": {},
   "outputs": [],
   "source": [
    "X = train.drop(\"bank_account\", axis = \"columns\")"
   ]
  },
  {
   "cell_type": "code",
   "execution_count": 265,
   "id": "1c0cbb6d",
   "metadata": {},
   "outputs": [],
   "source": [
    "test.drop(\"uniqueid\", axis = \"columns\", inplace = True )"
   ]
  },
  {
   "cell_type": "code",
   "execution_count": 266,
   "id": "15f6685a",
   "metadata": {
    "scrolled": true
   },
   "outputs": [
    {
     "data": {
      "text/plain": [
       "0        1\n",
       "1        0\n",
       "2        1\n",
       "3        0\n",
       "4        0\n",
       "        ..\n",
       "23519    0\n",
       "23520    0\n",
       "23521    0\n",
       "23522    0\n",
       "23523    0\n",
       "Name: bank_account, Length: 23524, dtype: int64"
      ]
     },
     "execution_count": 266,
     "metadata": {},
     "output_type": "execute_result"
    }
   ],
   "source": [
    "y"
   ]
  },
  {
   "cell_type": "code",
   "execution_count": 267,
   "id": "0d01e730",
   "metadata": {},
   "outputs": [],
   "source": [
    "y = train[\"bank_account\"]"
   ]
  },
  {
   "cell_type": "code",
   "execution_count": 268,
   "id": "03822b14",
   "metadata": {},
   "outputs": [],
   "source": [
    "rfc = RandomForestClassifier()"
   ]
  },
  {
   "cell_type": "code",
   "execution_count": 269,
   "id": "fa8854a3",
   "metadata": {},
   "outputs": [],
   "source": [
    "X_train, X_test, y_train, y_test = train_test_split(X, y, test_size = 0.2, random_state = 1234)"
   ]
  },
  {
   "cell_type": "code",
   "execution_count": 270,
   "id": "4804d627",
   "metadata": {},
   "outputs": [
    {
     "data": {
      "text/plain": [
       "RandomForestClassifier()"
      ]
     },
     "execution_count": 270,
     "metadata": {},
     "output_type": "execute_result"
    }
   ],
   "source": [
    "rfc.fit(X_train, y_train)"
   ]
  },
  {
   "cell_type": "code",
   "execution_count": 271,
   "id": "fb314759",
   "metadata": {},
   "outputs": [
    {
     "data": {
      "text/plain": [
       "array([1, 0, 0, ..., 0, 0, 0], dtype=int64)"
      ]
     },
     "execution_count": 271,
     "metadata": {},
     "output_type": "execute_result"
    }
   ],
   "source": [
    "rfc.predict(X_test)"
   ]
  },
  {
   "cell_type": "code",
   "execution_count": 272,
   "id": "c0eb9a93",
   "metadata": {},
   "outputs": [],
   "source": [
    "rfcpredict = rfc.predict(X_test)"
   ]
  },
  {
   "cell_type": "code",
   "execution_count": 273,
   "id": "adeb01b5",
   "metadata": {},
   "outputs": [
    {
     "data": {
      "text/plain": [
       "array([1, 1, 0, ..., 0, 0, 0], dtype=int64)"
      ]
     },
     "execution_count": 273,
     "metadata": {},
     "output_type": "execute_result"
    }
   ],
   "source": [
    "rfc.predict(test)"
   ]
  },
  {
   "cell_type": "code",
   "execution_count": 274,
   "id": "516594af",
   "metadata": {},
   "outputs": [
    {
     "data": {
      "text/plain": [
       "86.50371944739639"
      ]
     },
     "execution_count": 274,
     "metadata": {},
     "output_type": "execute_result"
    }
   ],
   "source": [
    "accuracy_score(y_test, rfcpredict) * 100"
   ]
  },
  {
   "cell_type": "code",
   "execution_count": 275,
   "id": "df231796",
   "metadata": {},
   "outputs": [
    {
     "data": {
      "text/plain": [
       "0.4168962350780533"
      ]
     },
     "execution_count": 275,
     "metadata": {},
     "output_type": "execute_result"
    }
   ],
   "source": [
    "f1_score(y_test, rfcpredict)"
   ]
  },
  {
   "cell_type": "code",
   "execution_count": 277,
   "id": "b01bbfed",
   "metadata": {},
   "outputs": [],
   "source": [
    "gnb = GaussianNB()"
   ]
  },
  {
   "cell_type": "code",
   "execution_count": 279,
   "id": "c5fbb377",
   "metadata": {},
   "outputs": [
    {
     "data": {
      "text/plain": [
       "GaussianNB()"
      ]
     },
     "execution_count": 279,
     "metadata": {},
     "output_type": "execute_result"
    }
   ],
   "source": [
    "gnb.fit(X_train, y_train)"
   ]
  },
  {
   "cell_type": "code",
   "execution_count": 280,
   "id": "31b92614",
   "metadata": {},
   "outputs": [
    {
     "data": {
      "text/plain": [
       "array([1, 0, 0, ..., 0, 0, 0], dtype=int64)"
      ]
     },
     "execution_count": 280,
     "metadata": {},
     "output_type": "execute_result"
    }
   ],
   "source": [
    "gnb.predict(X_test)"
   ]
  },
  {
   "cell_type": "code",
   "execution_count": 281,
   "id": "8c2f4206",
   "metadata": {
    "scrolled": true
   },
   "outputs": [
    {
     "data": {
      "text/plain": [
       "array([1, 1, 0, ..., 1, 0, 0], dtype=int64)"
      ]
     },
     "execution_count": 281,
     "metadata": {},
     "output_type": "execute_result"
    }
   ],
   "source": [
    "gnb.predict(test)"
   ]
  },
  {
   "cell_type": "code",
   "execution_count": 284,
   "id": "ade83622",
   "metadata": {},
   "outputs": [],
   "source": [
    "gnbpredict = gnb.predict(X_test)"
   ]
  },
  {
   "cell_type": "code",
   "execution_count": 285,
   "id": "83a02b0c",
   "metadata": {},
   "outputs": [
    {
     "data": {
      "text/plain": [
       "82.8480340063762"
      ]
     },
     "execution_count": 285,
     "metadata": {},
     "output_type": "execute_result"
    }
   ],
   "source": [
    "accuracy_score(y_test, gnbpredict) * 100"
   ]
  },
  {
   "cell_type": "code",
   "execution_count": 286,
   "id": "ff0e887c",
   "metadata": {},
   "outputs": [
    {
     "data": {
      "text/plain": [
       "0.45509790681971646"
      ]
     },
     "execution_count": 286,
     "metadata": {},
     "output_type": "execute_result"
    }
   ],
   "source": [
    "f1_score(y_test, gnbpredict)"
   ]
  },
  {
   "cell_type": "code",
   "execution_count": 287,
   "id": "d6b65106",
   "metadata": {},
   "outputs": [],
   "source": [
    "lrg = LogisticRegression()"
   ]
  },
  {
   "cell_type": "code",
   "execution_count": 288,
   "id": "a1dabacd",
   "metadata": {},
   "outputs": [
    {
     "name": "stderr",
     "output_type": "stream",
     "text": [
      "C:\\Users\\HP\\anaconda3\\lib\\site-packages\\sklearn\\linear_model\\_logistic.py:814: ConvergenceWarning: lbfgs failed to converge (status=1):\n",
      "STOP: TOTAL NO. of ITERATIONS REACHED LIMIT.\n",
      "\n",
      "Increase the number of iterations (max_iter) or scale the data as shown in:\n",
      "    https://scikit-learn.org/stable/modules/preprocessing.html\n",
      "Please also refer to the documentation for alternative solver options:\n",
      "    https://scikit-learn.org/stable/modules/linear_model.html#logistic-regression\n",
      "  n_iter_i = _check_optimize_result(\n"
     ]
    },
    {
     "data": {
      "text/plain": [
       "LogisticRegression()"
      ]
     },
     "execution_count": 288,
     "metadata": {},
     "output_type": "execute_result"
    }
   ],
   "source": [
    "lrg.fit(X_train, y_train)"
   ]
  },
  {
   "cell_type": "code",
   "execution_count": 289,
   "id": "83949554",
   "metadata": {},
   "outputs": [
    {
     "data": {
      "text/plain": [
       "array([1, 0, 0, ..., 0, 0, 0], dtype=int64)"
      ]
     },
     "execution_count": 289,
     "metadata": {},
     "output_type": "execute_result"
    }
   ],
   "source": [
    "lrg.predict(X_test)"
   ]
  },
  {
   "cell_type": "code",
   "execution_count": 290,
   "id": "076fd265",
   "metadata": {},
   "outputs": [
    {
     "data": {
      "text/plain": [
       "array([0, 1, 0, ..., 0, 0, 0], dtype=int64)"
      ]
     },
     "execution_count": 290,
     "metadata": {},
     "output_type": "execute_result"
    }
   ],
   "source": [
    "lrg.predict(test)"
   ]
  },
  {
   "cell_type": "code",
   "execution_count": 294,
   "id": "47f64fcf",
   "metadata": {},
   "outputs": [],
   "source": [
    "lrgtest = lrg.predict(test)"
   ]
  },
  {
   "cell_type": "code",
   "execution_count": 291,
   "id": "6b0c1d39",
   "metadata": {},
   "outputs": [],
   "source": [
    "lrgpredict = lrg.predict(X_test)"
   ]
  },
  {
   "cell_type": "code",
   "execution_count": 292,
   "id": "23c7e063",
   "metadata": {},
   "outputs": [
    {
     "data": {
      "text/plain": [
       "87.03506907545164"
      ]
     },
     "execution_count": 292,
     "metadata": {},
     "output_type": "execute_result"
    }
   ],
   "source": [
    "accuracy_score(y_test, lrgpredict) * 100"
   ]
  },
  {
   "cell_type": "code",
   "execution_count": 293,
   "id": "573a0040",
   "metadata": {},
   "outputs": [
    {
     "data": {
      "text/plain": [
       "0.29723502304147464"
      ]
     },
     "execution_count": 293,
     "metadata": {},
     "output_type": "execute_result"
    }
   ],
   "source": [
    "f1_score(y_test, lrgpredict)"
   ]
  },
  {
   "cell_type": "code",
   "execution_count": 296,
   "id": "f0801b74",
   "metadata": {},
   "outputs": [],
   "source": [
    "p = pd.read_csv(\"Test.csv\")"
   ]
  },
  {
   "cell_type": "code",
   "execution_count": 304,
   "id": "b3642316",
   "metadata": {},
   "outputs": [],
   "source": [
    "a = pd.DataFrame({\"uniqueid\":p[\"uniqueid\"] + \" x \" + p[\"country\"], \"bank_account\":lrgtest})"
   ]
  },
  {
   "cell_type": "code",
   "execution_count": 305,
   "id": "810c3f7b",
   "metadata": {},
   "outputs": [
    {
     "data": {
      "text/html": [
       "<div>\n",
       "<style scoped>\n",
       "    .dataframe tbody tr th:only-of-type {\n",
       "        vertical-align: middle;\n",
       "    }\n",
       "\n",
       "    .dataframe tbody tr th {\n",
       "        vertical-align: top;\n",
       "    }\n",
       "\n",
       "    .dataframe thead th {\n",
       "        text-align: right;\n",
       "    }\n",
       "</style>\n",
       "<table border=\"1\" class=\"dataframe\">\n",
       "  <thead>\n",
       "    <tr style=\"text-align: right;\">\n",
       "      <th></th>\n",
       "      <th>uniqueid</th>\n",
       "      <th>bank_account</th>\n",
       "    </tr>\n",
       "  </thead>\n",
       "  <tbody>\n",
       "    <tr>\n",
       "      <th>0</th>\n",
       "      <td>uniqueid_6056 x Kenya</td>\n",
       "      <td>0</td>\n",
       "    </tr>\n",
       "    <tr>\n",
       "      <th>1</th>\n",
       "      <td>uniqueid_6060 x Kenya</td>\n",
       "      <td>1</td>\n",
       "    </tr>\n",
       "    <tr>\n",
       "      <th>2</th>\n",
       "      <td>uniqueid_6065 x Kenya</td>\n",
       "      <td>0</td>\n",
       "    </tr>\n",
       "    <tr>\n",
       "      <th>3</th>\n",
       "      <td>uniqueid_6072 x Kenya</td>\n",
       "      <td>0</td>\n",
       "    </tr>\n",
       "    <tr>\n",
       "      <th>4</th>\n",
       "      <td>uniqueid_6073 x Kenya</td>\n",
       "      <td>0</td>\n",
       "    </tr>\n",
       "    <tr>\n",
       "      <th>...</th>\n",
       "      <td>...</td>\n",
       "      <td>...</td>\n",
       "    </tr>\n",
       "    <tr>\n",
       "      <th>10081</th>\n",
       "      <td>uniqueid_2998 x Uganda</td>\n",
       "      <td>0</td>\n",
       "    </tr>\n",
       "    <tr>\n",
       "      <th>10082</th>\n",
       "      <td>uniqueid_2999 x Uganda</td>\n",
       "      <td>0</td>\n",
       "    </tr>\n",
       "    <tr>\n",
       "      <th>10083</th>\n",
       "      <td>uniqueid_3000 x Uganda</td>\n",
       "      <td>0</td>\n",
       "    </tr>\n",
       "    <tr>\n",
       "      <th>10084</th>\n",
       "      <td>uniqueid_3001 x Uganda</td>\n",
       "      <td>0</td>\n",
       "    </tr>\n",
       "    <tr>\n",
       "      <th>10085</th>\n",
       "      <td>uniqueid_3002 x Uganda</td>\n",
       "      <td>0</td>\n",
       "    </tr>\n",
       "  </tbody>\n",
       "</table>\n",
       "<p>10086 rows × 2 columns</p>\n",
       "</div>"
      ],
      "text/plain": [
       "                     uniqueid  bank_account\n",
       "0       uniqueid_6056 x Kenya             0\n",
       "1       uniqueid_6060 x Kenya             1\n",
       "2       uniqueid_6065 x Kenya             0\n",
       "3       uniqueid_6072 x Kenya             0\n",
       "4       uniqueid_6073 x Kenya             0\n",
       "...                       ...           ...\n",
       "10081  uniqueid_2998 x Uganda             0\n",
       "10082  uniqueid_2999 x Uganda             0\n",
       "10083  uniqueid_3000 x Uganda             0\n",
       "10084  uniqueid_3001 x Uganda             0\n",
       "10085  uniqueid_3002 x Uganda             0\n",
       "\n",
       "[10086 rows x 2 columns]"
      ]
     },
     "execution_count": 305,
     "metadata": {},
     "output_type": "execute_result"
    }
   ],
   "source": [
    "a"
   ]
  },
  {
   "cell_type": "code",
   "execution_count": 306,
   "id": "0019f193",
   "metadata": {},
   "outputs": [],
   "source": [
    "Hackathon = a"
   ]
  },
  {
   "cell_type": "code",
   "execution_count": 307,
   "id": "c07a2535",
   "metadata": {},
   "outputs": [],
   "source": [
    "Hackathon.to_csv(\"Hackathon1.csv\", index = False)"
   ]
  },
  {
   "cell_type": "code",
   "execution_count": 308,
   "id": "b4165271",
   "metadata": {},
   "outputs": [
    {
     "data": {
      "text/html": [
       "<div>\n",
       "<style scoped>\n",
       "    .dataframe tbody tr th:only-of-type {\n",
       "        vertical-align: middle;\n",
       "    }\n",
       "\n",
       "    .dataframe tbody tr th {\n",
       "        vertical-align: top;\n",
       "    }\n",
       "\n",
       "    .dataframe thead th {\n",
       "        text-align: right;\n",
       "    }\n",
       "</style>\n",
       "<table border=\"1\" class=\"dataframe\">\n",
       "  <thead>\n",
       "    <tr style=\"text-align: right;\">\n",
       "      <th></th>\n",
       "      <th>uniqueid</th>\n",
       "      <th>bank_account</th>\n",
       "    </tr>\n",
       "  </thead>\n",
       "  <tbody>\n",
       "    <tr>\n",
       "      <th>0</th>\n",
       "      <td>uniqueid_6056 x Kenya</td>\n",
       "      <td>0</td>\n",
       "    </tr>\n",
       "    <tr>\n",
       "      <th>1</th>\n",
       "      <td>uniqueid_6060 x Kenya</td>\n",
       "      <td>1</td>\n",
       "    </tr>\n",
       "    <tr>\n",
       "      <th>2</th>\n",
       "      <td>uniqueid_6065 x Kenya</td>\n",
       "      <td>0</td>\n",
       "    </tr>\n",
       "    <tr>\n",
       "      <th>3</th>\n",
       "      <td>uniqueid_6072 x Kenya</td>\n",
       "      <td>0</td>\n",
       "    </tr>\n",
       "    <tr>\n",
       "      <th>4</th>\n",
       "      <td>uniqueid_6073 x Kenya</td>\n",
       "      <td>0</td>\n",
       "    </tr>\n",
       "  </tbody>\n",
       "</table>\n",
       "</div>"
      ],
      "text/plain": [
       "                uniqueid  bank_account\n",
       "0  uniqueid_6056 x Kenya             0\n",
       "1  uniqueid_6060 x Kenya             1\n",
       "2  uniqueid_6065 x Kenya             0\n",
       "3  uniqueid_6072 x Kenya             0\n",
       "4  uniqueid_6073 x Kenya             0"
      ]
     },
     "execution_count": 308,
     "metadata": {},
     "output_type": "execute_result"
    }
   ],
   "source": [
    "Hackathon.head()"
   ]
  },
  {
   "cell_type": "code",
   "execution_count": null,
   "id": "6a706c7f",
   "metadata": {},
   "outputs": [],
   "source": []
  }
 ],
 "metadata": {
  "kernelspec": {
   "display_name": "Python 3 (ipykernel)",
   "language": "python",
   "name": "python3"
  },
  "language_info": {
   "codemirror_mode": {
    "name": "ipython",
    "version": 3
   },
   "file_extension": ".py",
   "mimetype": "text/x-python",
   "name": "python",
   "nbconvert_exporter": "python",
   "pygments_lexer": "ipython3",
   "version": "3.9.12"
  }
 },
 "nbformat": 4,
 "nbformat_minor": 5
}
